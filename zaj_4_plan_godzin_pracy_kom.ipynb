{
 "cells": [
  {
   "cell_type": "code",
   "execution_count": 1,
   "metadata": {},
   "outputs": [],
   "source": [
    "from pulp import * #importowanie bibliotek, umozliwienie wykorzystania metody simplex\n",
    "import pandas as pd"
   ]
  },
  {
   "cell_type": "code",
   "execution_count": 2,
   "metadata": {},
   "outputs": [
    {
     "name": "stdout",
     "output_type": "stream",
     "text": [
      "[('Igor', 170, 4), ('Marcin', 60, 4), ('Franek', 80, 9), ('Piotr', 200, 8), ('Ania', 90, 10), ('Zenon', 10, 5)]\n",
      "[('PN', 8), ('WT', 4), ('SR', 4), ('CW', 4), ('PT', 8), ('SB', 2), ('ND', 0)]\n"
     ]
    }
   ],
   "source": [
    "LSG=[('Igor',170,4),('Marcin',60,4),('Franek',80,9),('Piotr',200,8),('Ania',90,10),('Zenon',10,5)] #ilosc godzin pracy danej osoby, oraz na drugim miejscu podane jest wynagrodzenie za godzine\n",
    "TYG=[('PN',8),('WT',4),('SR',4),('CW',4),('PT',8),('SB',2),('ND',0)] #ilosc godzin pracujacych w danym dniu\n",
    "print(LSG)\n",
    "print(TYG)"
   ]
  },
  {
   "cell_type": "code",
   "execution_count": 3,
   "metadata": {},
   "outputs": [],
   "source": [
    "prob = LpProblem(\"Najnizszy wydatek\",LpMinimize) #wykorzystanie metody simplex do minimalizacji kosztow na pracownika\n",
    "\n",
    "# 2 zmienne\n",
    "koszt=LpVariable(\"Koszt\",0) #podanie ograniczenia, ze koszt nie moze byc ujemny\n",
    "# pomocnicze zmienne\n",
    "godz_igor = LpVariable(\"Godziny pracy Igusia\", 0) #podanie ogranicze, ze godziny pracy Igusia nie moga byc mniejsze od zera\n",
    "godz_marcin = LpVariable(\"Godziny pracy Marcinusia\", 0)\n",
    "godz_franek = LpVariable(\"Godziny pracy Franeczka\", 0)\n",
    "godz_piotr = LpVariable(\"Godziny pracy Piotrusia\", 0)\n",
    "godz_ania = LpVariable(\"Godziny pracy Aniutki\", 0)\n",
    "godz_zenon = LpVariable(\"Godziny pracy Zenonka\", 0)\n",
    "\n",
    "prob += 170*godz_igor + 60*godz_marcin + 80*godz_franek + 200*godz_piotr + 90*godz_ania + 10*godz_zenon, \"Koszt calkowity\"\n",
    "#rownanie kosztu calkowitego, podczas gdy kazdy pracownik bedzie pracowal jakss liczbe godzin, pracownik moze pracowac mniej niz jest przypisane\n",
    "prob += godz_igor <=4, \"Min godz Igor\" #ograniczenie, ze dana osoba, nie moze pracoac wiecej godzin niz to jest okreslone\n",
    "prob += godz_marcin <=4, \"Min godz Marcin\"\n",
    "prob += godz_franek <=9, \"Min godz Franek\"\n",
    "prob += godz_piotr <=8, \"Min godz Piotr\"\n",
    "prob += godz_ania <=10, \"Min godz Ania\"\n",
    "prob += godz_zenon <=5, \"Min godz Zenon\"\n",
    "prob += godz_igor+godz_marcin+godz_franek+godz_piotr+godz_ania+godz_zenon == 30, \"Ilosc godzin w tygodniu\"\n",
    "#ilosc godzin pracy wszystkich osob, musi byc rowne 30\n"
   ]
  },
  {
   "cell_type": "code",
   "execution_count": 4,
   "metadata": {},
   "outputs": [
    {
     "name": "stdout",
     "output_type": "stream",
     "text": [
      "Status: Optimal\n",
      "Godziny_pracy_Aniutki = 10.0\n",
      "Godziny_pracy_Franeczka = 9.0\n",
      "Godziny_pracy_Igusia = 2.0\n",
      "Godziny_pracy_Marcinusia = 4.0\n",
      "Godziny_pracy_Piotrusia = 0.0\n",
      "Godziny_pracy_Zenonka = 5.0\n",
      "Koszt 2250.0zł \n"
     ]
    }
   ],
   "source": [
    "\n",
    "\n",
    "prob.solve() #wykorzystanie metody simplex\n",
    "# The status of the solution is printed to the screen\n",
    "print(\"Status:\", LpStatus[prob.status]) #status rozwiazania simplex\n",
    "# Each of the variables is printed with it's resolved optimum value\n",
    "for v in prob.variables():\n",
    "    print(v.name, \"=\", v.varValue) #wyswietlenie minimalnej wartosci dla funkcji celu\n",
    "print(\"Koszt {}zł \".format( value(prob.objective)))\n",
    "\n"
   ]
  },
  {
   "cell_type": "code",
   "execution_count": 5,
   "metadata": {},
   "outputs": [],
   "source": [
    "max_godz = 4 #maksymalna ilosc godzin pracy kazdego pracownika\n",
    "min_godz = 2 #minimalna ilosc godzin kazdego pracownika\n",
    "godz_pracy = [('Ania',10), ('Franek', 9), ('Igor', 2), ('Marcin', 4), ('Piotr', 0), ('Zenon', 5)] #ilosc godzin do rozdysponowania kazdej osoby\n"
   ]
  },
  {
   "cell_type": "code",
   "execution_count": 6,
   "metadata": {},
   "outputs": [],
   "source": [
    "prob = LpProblem(\"Najnizszy wydatek\",LpMinimize)\n",
    "\n",
    "# 2 zmienne\n",
    "koszt=LpVariable(\"Koszt\",0) \n",
    "# pomocnicze zmienne\n",
    "godz_igor_pn = LpVariable(\"Godziny pracy Igusia PN\", 0)\n",
    "godz_igor_wt = LpVariable(\"Godziny pracy Igusia WT\", 0)\n",
    "godz_igor_sr = LpVariable(\"Godziny pracy Igusia SR\", 0)\n",
    "godz_igor_cz = LpVariable(\"Godziny pracy Igusia CZ\", 0)\n",
    "godz_igor_pt = LpVariable(\"Godziny pracy Igusia PT\", 0)\n",
    "godz_igor_sb = LpVariable(\"Godziny pracy Igusia SB\", 0)\n",
    "godz_marcin_pn = LpVariable(\"Godziny pracy Marcinusia PN\", 0)\n",
    "godz_marcin_wt = LpVariable(\"Godziny pracy Marcinusia WT\", 0)\n",
    "godz_marcin_sr = LpVariable(\"Godziny pracy Marcinusia SR\", 0)\n",
    "godz_marcin_cz = LpVariable(\"Godziny pracy Marcinusia CZ\", 0)\n",
    "godz_marcin_pt = LpVariable(\"Godziny pracy Marcinusia PT\", 0)\n",
    "godz_marcin_sb = LpVariable(\"Godziny pracy Marcinusia SB\", 0)\n",
    "godz_franek_pn = LpVariable(\"Godziny pracy Franeczka PN\", 0)\n",
    "godz_franek_wt = LpVariable(\"Godziny pracy Franeczka WT\", 0)\n",
    "godz_franek_sr = LpVariable(\"Godziny pracy Franeczka SR\", 0)\n",
    "godz_franek_cz = LpVariable(\"Godziny pracy Franeczka CZ\", 0)\n",
    "godz_franek_pt = LpVariable(\"Godziny pracy Franeczka PT\", 0)\n",
    "godz_franek_sb = LpVariable(\"Godziny pracy Franeczka SB\", 0)\n",
    "godz_piotr_pn = LpVariable(\"Godziny pracy Piotrusia PN\", 0)\n",
    "godz_piotr_wt = LpVariable(\"Godziny pracy Piotrusia WT\", 0)\n",
    "godz_piotr_sr = LpVariable(\"Godziny pracy Piotrusia SR\", 0)\n",
    "godz_piotr_cz = LpVariable(\"Godziny pracy Piotrusia CZ\", 0)\n",
    "godz_piotr_pt = LpVariable(\"Godziny pracy Piotrusia PT\", 0)\n",
    "godz_piotr_sb = LpVariable(\"Godziny pracy Piotrusia SB\", 0)\n",
    "godz_ania_pn = LpVariable(\"Godziny pracy Aniutki PN\", 0)\n",
    "godz_ania_wt = LpVariable(\"Godziny pracy Aniutki WT\", 0)\n",
    "godz_ania_sr = LpVariable(\"Godziny pracy Aniutki SR\", 0)\n",
    "godz_ania_cz = LpVariable(\"Godziny pracy Aniutki CW\", 0)\n",
    "godz_ania_pt = LpVariable(\"Godziny pracy Aniutki PT\", 0)\n",
    "godz_ania_sb = LpVariable(\"Godziny pracy Aniutki SB\", 0)\n",
    "godz_zenon_pn = LpVariable(\"Godziny pracy Zenonka PN\", 0)\n",
    "godz_zenon_wt = LpVariable(\"Godziny pracy Zenonka WT\", 0)\n",
    "godz_zenon_sr = LpVariable(\"Godziny pracy Zenonka SR\", 0)\n",
    "godz_zenon_cz = LpVariable(\"Godziny pracy Zenonka CZ\", 0)\n",
    "godz_zenon_pt = LpVariable(\"Godziny pracy Zenonka PT\", 0)\n",
    "godz_zenon_sb = LpVariable(\"Godziny pracy Zenonka SB\", 0)\n",
    "\n",
    "prob += 170*(godz_igor_pn+godz_igor_wt+godz_igor_sr+godz_igor_cz+godz_igor_pt+godz_igor_sb) + 60*(godz_marcin_pn+godz_marcin_wt+godz_marcin_sr+godz_marcin_cz+godz_marcin_pt+godz_marcin_sb) + 80*(godz_franek_pn+godz_franek_wt+godz_franek_sr+godz_franek_cz+godz_franek_pt+godz_franek_sb) + 200*(godz_piotr_pn+godz_piotr_wt+godz_piotr_sr+godz_piotr_cz+godz_piotr_pt+godz_piotr_sb) + 90*(godz_ania_pn+godz_ania_wt+godz_ania_sr+godz_ania_cz+godz_ania_pt+godz_ania_sb) + 10*(godz_zenon_pn+godz_zenon_wt+godz_zenon_sr+godz_zenon_cz+godz_zenon_pt+godz_zenon_sb), \"Koszt calkowity\"\n",
    "prob += godz_igor_pn+godz_igor_wt+godz_igor_sr+godz_igor_cz+godz_igor_pt+godz_igor_sb <=4, \"Min godz Igor\"\n",
    "prob += godz_marcin_pn+godz_marcin_wt+godz_marcin_sr+godz_marcin_cz+godz_marcin_pt+godz_marcin_sb <=4, \"Min godz Marcin\"\n",
    "prob += godz_franek_pn+godz_franek_wt+godz_franek_sr+godz_franek_cz+godz_franek_pt+godz_franek_sb <=9, \"Min godz Franek\"\n",
    "prob += godz_piotr_pn+godz_piotr_wt+godz_piotr_sr+godz_piotr_cz+godz_piotr_pt+godz_piotr_sb <=8, \"Min godz Piotr\"\n",
    "prob += godz_ania_pn+godz_ania_wt+godz_ania_sr+godz_ania_cz+godz_ania_pt+godz_ania_sb <=10, \"Min godz Ania\"\n",
    "prob += godz_zenon_pn+godz_zenon_wt+godz_zenon_sr+godz_zenon_cz+godz_zenon_pt+godz_zenon_sb <=5, \"Min godz Zenon\"\n",
    "\n",
    "prob += godz_igor_pn+godz_marcin_pn+godz_franek_pn+godz_piotr_pn+godz_ania_pn+godz_zenon_pn == 8, \"PONIEDZIALEK\"\n",
    "prob += godz_igor_wt+godz_marcin_wt+godz_franek_wt+godz_piotr_wt+godz_ania_wt+godz_zenon_wt == 4, \"WTOREK\"\n",
    "prob += godz_igor_sr+godz_marcin_sr+godz_franek_sr+godz_piotr_sr+godz_ania_sr+godz_zenon_sr == 4, \"SRODA\"\n",
    "prob += godz_igor_cz+godz_marcin_cz+godz_franek_cz+godz_piotr_cz+godz_ania_cz+godz_zenon_cz == 4, \"CZWARTEK\"\n",
    "prob += godz_igor_pt+godz_marcin_pt+godz_franek_pt+godz_piotr_pt+godz_ania_pt+godz_zenon_pt == 8, \"PIATEK\"\n",
    "prob += godz_igor_sb+godz_marcin_sb+godz_franek_sb+godz_piotr_sb+godz_ania_sb+godz_zenon_sb == 2, \"SOBOTA\"\n",
    "\n",
    "prob += godz_igor_pn <= 4, \"ograniczenie igor\"\n",
    "prob += godz_marcin_pn <= 4, \"ograniczenie marcin\"\n",
    "prob += godz_franek_pn <= 4, \"ograniczenie franek\"\n",
    "prob += godz_piotr_pn <= 4, \"ograniczenie piotr\"\n",
    "prob += godz_ania_pn <= 4, \"ograniczenie ania\"\n",
    "prob += godz_zenon_pn <= 4, \"ograniczenie zenon\"\n",
    "\n",
    "prob += godz_igor_pn+godz_igor_wt+godz_igor_sr+godz_igor_cz+godz_igor_pt+godz_igor_sb+godz_marcin_pn+godz_marcin_wt+godz_marcin_sr+godz_marcin_cz+godz_marcin_pt+godz_marcin_sb+godz_franek_pn+godz_franek_wt+godz_franek_sr+godz_franek_cz+godz_franek_pt+godz_franek_sb+godz_piotr_pn+godz_piotr_wt+godz_piotr_sr+godz_piotr_cz+godz_piotr_pt+godz_piotr_sb+godz_ania_pn+godz_ania_wt+godz_ania_sr+godz_ania_cz+godz_ania_pt+godz_ania_sb+godz_zenon_pn+godz_zenon_wt+godz_zenon_sr+godz_zenon_cz+godz_zenon_pt+godz_zenon_sb == 30, \"Ilosc godzin w tygodniu\""
   ]
  },
  {
   "cell_type": "code",
   "execution_count": 7,
   "metadata": {},
   "outputs": [
    {
     "name": "stdout",
     "output_type": "stream",
     "text": [
      "Status: Optimal\n",
      "Godziny_pracy_Aniutki_CW = 0.0\n",
      "Godziny_pracy_Aniutki_PN = 4.0\n",
      "Godziny_pracy_Aniutki_PT = 2.0\n",
      "Godziny_pracy_Aniutki_SB = 2.0\n",
      "Godziny_pracy_Aniutki_SR = 2.0\n",
      "Godziny_pracy_Aniutki_WT = 0.0\n",
      "Godziny_pracy_Franeczka_CZ = 4.0\n",
      "Godziny_pracy_Franeczka_PN = 4.0\n",
      "Godziny_pracy_Franeczka_PT = 0.0\n",
      "Godziny_pracy_Franeczka_SB = 0.0\n",
      "Godziny_pracy_Franeczka_SR = 0.0\n",
      "Godziny_pracy_Franeczka_WT = 1.0\n",
      "Godziny_pracy_Igusia_CZ = 0.0\n",
      "Godziny_pracy_Igusia_PN = 0.0\n",
      "Godziny_pracy_Igusia_PT = 0.0\n",
      "Godziny_pracy_Igusia_SB = 0.0\n",
      "Godziny_pracy_Igusia_SR = 2.0\n",
      "Godziny_pracy_Igusia_WT = 0.0\n",
      "Godziny_pracy_Marcinusia_CZ = 0.0\n",
      "Godziny_pracy_Marcinusia_PN = 0.0\n",
      "Godziny_pracy_Marcinusia_PT = 1.0\n",
      "Godziny_pracy_Marcinusia_SB = 0.0\n",
      "Godziny_pracy_Marcinusia_SR = 0.0\n",
      "Godziny_pracy_Marcinusia_WT = 3.0\n",
      "Godziny_pracy_Piotrusia_CZ = 0.0\n",
      "Godziny_pracy_Piotrusia_PN = 0.0\n",
      "Godziny_pracy_Piotrusia_PT = 0.0\n",
      "Godziny_pracy_Piotrusia_SB = 0.0\n",
      "Godziny_pracy_Piotrusia_SR = 0.0\n",
      "Godziny_pracy_Piotrusia_WT = 0.0\n",
      "Godziny_pracy_Zenonka_CZ = 0.0\n",
      "Godziny_pracy_Zenonka_PN = 0.0\n",
      "Godziny_pracy_Zenonka_PT = 5.0\n",
      "Godziny_pracy_Zenonka_SB = 0.0\n",
      "Godziny_pracy_Zenonka_SR = 0.0\n",
      "Godziny_pracy_Zenonka_WT = 0.0\n",
      "Koszt 2250.0zł \n"
     ]
    }
   ],
   "source": [
    "prob.solve()\n",
    "# The status of the solution is printed to the screen\n",
    "print(\"Status:\", LpStatus[prob.status])\n",
    "# Each of the variables is printed with it's resolved optimum value\n",
    "for v in prob.variables():\n",
    "    print(v.name, \"=\", v.varValue)\n",
    "print(\"Koszt {}zł \".format( value(prob.objective)))\n"
   ]
  },
  {
   "cell_type": "code",
   "execution_count": null,
   "metadata": {},
   "outputs": [],
   "source": []
  }
 ],
 "metadata": {
  "kernelspec": {
   "display_name": "Python 3",
   "language": "python",
   "name": "python3"
  },
  "language_info": {
   "codemirror_mode": {
    "name": "ipython",
    "version": 3
   },
   "file_extension": ".py",
   "mimetype": "text/x-python",
   "name": "python",
   "nbconvert_exporter": "python",
   "pygments_lexer": "ipython3",
   "version": "3.7.4"
  }
 },
 "nbformat": 4,
 "nbformat_minor": 2
}

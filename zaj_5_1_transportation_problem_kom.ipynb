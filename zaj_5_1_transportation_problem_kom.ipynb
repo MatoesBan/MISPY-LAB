{
 "cells": [
  {
   "cell_type": "code",
   "execution_count": 1,
   "metadata": {},
   "outputs": [],
   "source": [
    "from pulp import * # importowanie bibliotek, umozliwienie wykorzystania metody simpleks\n",
    "import pandas as pd"
   ]
  },
  {
   "cell_type": "code",
   "execution_count": 2,
   "metadata": {},
   "outputs": [],
   "source": [
    "prob = LpProblem(\"Najnizszy wydatek\",LpMinimize) # wykorzystanie metody simpleks do minimalizacji\n",
    "\n",
    "# zadanie polega na minimalizacji kosztow transportu towarow z browani x i browarni y do barow bulka, pelek i kebab.\n",
    "# Transport do baru bulka z browani x wynosi 15 zl, a z browarni y 2 zl. Transport do baru pelek z browani x wynosi\n",
    "# 10 zl, a z browarni y 15 zl. Transport do baru kebab z browani x wynosi 5 zl, a z browarni y 20 zl.\n",
    "# Zapotrzebowanie baru bulka wynosi 19 piw, baru pelek 5 piw, a baru kebab 10 piw i dla tych barow jest obojetne\n",
    "# z ktorej browarni zostanie dostarczone piwo. Browar x produkuje 20 piw i tyle samo produkuje browar y.\n",
    "# Przy wiekszej produkcji piw niz zapotrzebowanie, piwa maja trafic do magazynow, co odbywa sie bez kosztow.\n",
    "\n",
    "# 2 zmienne\n",
    "koszt=LpVariable(\"Koszt transportu\",0) # juz tutaj podajemy ograniczenie ze koszt jest nieujemny\n",
    "# pomocnicze zmienne\n",
    "x_b = LpVariable(\"x_b\", 0, 20, LpInteger) # ilosc transportow z browaru x do baru bulka\n",
    "x_p = LpVariable(\"x_p\", 0, 20, LpInteger) # ilosc transportow z browaru x do baru pelek\n",
    "x_k = LpVariable(\"x_k\", 0, 20, LpInteger) # ilosc transportow z browaru x do baru kebab\n",
    "x_m = LpVariable(\"x_m\", 0, 20, LpInteger) # ilosc transportow z browaru x do magazynu\n",
    "y_b = LpVariable(\"y_b\", 0, 20, LpInteger) # ilosc transportow z browaru y do baru bulka\n",
    "y_p = LpVariable(\"y_p\", 0, 20, LpInteger) # ilosc transportow z browaru y do baru pelek\n",
    "y_k = LpVariable(\"y_k\", 0, 20, LpInteger) # ilosc transportow z browaru y do baru kebab\n",
    "y_m = LpVariable(\"y_m\", 0, 20, LpInteger) # ilosc transportow z browaru y do magazynu\n",
    "# funkcja celu\n",
    "prob += 15*x_b + 10*x_p + 5*x_k + 0*x_m + 2*y_b + 15*y_p + 0*y_m + 20*y_k,  \"Koszt calkowity\"\n",
    "# Uklad rownan dla zmiennych pomocniczych i ich ograniczenia\n",
    "prob += x_b + y_b == 19, \"Zapotrzebowabie bar bulka\"\n",
    "prob += x_p + y_p == 5, \"Zapotrzebowabie bar pelek\"\n",
    "prob += x_k + y_k == 10, \"Zapotrzebowabie bar kebab\"\n",
    "prob += x_b + x_p + x_k + x_m== 20, \"Produkcja browar_x\"\n",
    "prob += y_b + y_p + y_k + y_m== 20, \"Produkcja browar_y\""
   ]
  },
  {
   "cell_type": "code",
   "execution_count": 3,
   "metadata": {},
   "outputs": [
    {
     "name": "stdout",
     "output_type": "stream",
     "text": [
      "Status: Optimal\n",
      "x_b = 0.0\n",
      "x_k = 10.0\n",
      "x_m = 5.0\n",
      "x_p = 5.0\n",
      "y_b = 19.0\n",
      "y_k = 0.0\n",
      "y_m = 1.0\n",
      "y_p = 0.0\n",
      "Koszt 138.0zł \n"
     ]
    }
   ],
   "source": [
    "prob.solve() # wykorzystanie metody simpleks\n",
    "print(\"Status:\", LpStatus[prob.status]) # status wykonanej metody simpleks\n",
    "# Zmienne sa wyswietlane z obliczonymi dla nich optymalnymi wartosciami\n",
    "for v in prob.variables():\n",
    "    print(v.name, \"=\", v.varValue)\n",
    "# wyswietlenie uzyskanej wartosci minimalnej dla funkcji celu\n",
    "print(\"Koszt {}zł \".format( value(prob.objective)))"
   ]
  }
 ],
 "metadata": {
  "kernelspec": {
   "display_name": "Python 3",
   "language": "python",
   "name": "python3"
  },
  "language_info": {
   "codemirror_mode": {
    "name": "ipython",
    "version": 3
   },
   "file_extension": ".py",
   "mimetype": "text/x-python",
   "name": "python",
   "nbconvert_exporter": "python",
   "pygments_lexer": "ipython3",
   "version": "3.7.4"
  }
 },
 "nbformat": 4,
 "nbformat_minor": 2
}

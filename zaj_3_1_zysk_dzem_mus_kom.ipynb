{
 "cells": [
  {
   "cell_type": "code",
   "execution_count": 1,
   "metadata": {},
   "outputs": [],
   "source": [
    "from pulp import * # importowanie bibliotek, umozliwienie wykorzystania metody simpleks\n",
    "import pandas as pd\n",
    "import math"
   ]
  },
  {
   "cell_type": "code",
   "execution_count": 2,
   "metadata": {},
   "outputs": [],
   "source": [
    "prob = LpProblem(\"Najlepsza produkcja HURT\", LpMaximize) # wykorzystanie metody simpleks do maksymalizacji\n",
    "\n",
    "# zadanie polega na maksymalizacji zysku z hurtowej produkcji dzemow i musow, gdzie zysk z sprzedazy dzemu\n",
    "# wynosi 16 zl, a musu 11 zl. By miec zysk od przychodu odejmujemy koszt kupna jablek i miodu wynoszacy\n",
    "# odpowiednio 0.3 zl za jabko i 0.2 zl za miod. Do wykonania dzemu zuzywa sie 8 jablek i 5 miodow, a musu\n",
    "# 2 jabka i 5 miodow. ilosc jablek ograniczona jest do 60, a miodow do 25.\n",
    "\n",
    "# 2 zmienne\n",
    "dzem = LpVariable(\"Dzem\",0) # juz tutaj podajemy ograniczenie, ze ilosci dzemow i musow nie sa ujemne\n",
    "mus = LpVariable(\"Mus\", 0)\n",
    "# zmienne pomocnicze\n",
    "zuzycie_jablek = LpVariable(\"Jablka\", 0)\n",
    "zuzycie_miodu = LpVariable(\"Miod\", 0)\n",
    "# funkcja celu\n",
    "prob += 16*dzem + 11 * mus - 0.3 * zuzycie_jablek - 0.2 * zuzycie_miodu, \"Zysk\"\n",
    "# Uklad nierowności, rownania dla zmiennych pomocniczych i ich ograniczenia\n",
    "prob += 8 * dzem + 2 * mus == zuzycie_jablek, \"Zuzycie jablek\"\n",
    "prob += 5 * dzem + 5 * mus == zuzycie_miodu, \"Zuzycie miodu\"\n",
    "prob += zuzycie_jablek <= 60, \"Maksimum jablek\"\n",
    "prob += zuzycie_miodu <= 25, \"Maksimum miodu\""
   ]
  },
  {
   "cell_type": "code",
   "execution_count": 3,
   "metadata": {},
   "outputs": [
    {
     "name": "stdout",
     "output_type": "stream",
     "text": [
      "Status: Optimal\n",
      "Dzem = 5.0\n",
      "Jablka = 40.0\n",
      "Miod = 25.0\n",
      "Mus = 0.0\n",
      "Zysk 63.0zł \n"
     ]
    }
   ],
   "source": [
    "prob.solve() # wykorzystanie metody simpleks\n",
    "print(\"Status:\", LpStatus[prob.status]) # status wykonanej metody simpleks\n",
    "# Zmienne sa wyswietlane z obliczonymi dla nich optymalnymi wartosciami\n",
    "for v in prob.variables():\n",
    "    print(v.name, \"=\", v.varValue)\n",
    "# wyswietlenie uzyskanej wartosci maksymalnej dla funkcji celu\n",
    "print(\"Zysk {}zł \".format( value(prob.objective)))"
   ]
  }
 ],
 "metadata": {
  "kernelspec": {
   "display_name": "Python 3",
   "language": "python",
   "name": "python3"
  },
  "language_info": {
   "codemirror_mode": {
    "name": "ipython",
    "version": 3
   },
   "file_extension": ".py",
   "mimetype": "text/x-python",
   "name": "python",
   "nbconvert_exporter": "python",
   "pygments_lexer": "ipython3",
   "version": "3.7.4"
  }
 },
 "nbformat": 4,
 "nbformat_minor": 2
}

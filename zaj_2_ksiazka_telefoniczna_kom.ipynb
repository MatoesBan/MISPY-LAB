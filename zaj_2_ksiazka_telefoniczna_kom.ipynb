{
 "cells": [
  {
   "cell_type": "code",
   "execution_count": 1,
   "metadata": {},
   "outputs": [
    {
     "name": "stdout",
     "output_type": "stream",
     "text": [
      "plus cztery, osiem, cztery, dwa, trzy, cztery, piec, szesc, siedem, osiem, dziewiec\n"
     ]
    },
    {
     "data": {
      "text/plain": [
       "'Lodz'"
      ]
     },
     "execution_count": 1,
     "metadata": {},
     "output_type": "execute_result"
    }
   ],
   "source": [
    "# challenge 1\n",
    "\n",
    "# Stworz typ NumerTelefonu\n",
    "\n",
    "# -- przy tworzeniu sprawdza czy właściwy numer (Polski) jeśli nie pisze, że error (ew. Exception)\n",
    "\n",
    "# -- gdy printuję to mi pisze polskimi słowami i.e. \"jeden, pięć, siedem, zero\"\n",
    "\n",
    "# -- gdy wywołuję właściwość wojewodzwtwo, podaje mi wojewodztwo ew. ze to komorkowy\n",
    "\n",
    "kody_regionalne_slownik = {\"42\": \"Lodz\",\"22\":  \"Warszawa\"} #jesli numer na poczatku ma wpisane \"42\" to wypisuje \"lodz\", jesli \"22\" to \"Warszawa\"\n",
    "\n",
    "cyfry_slownik={\"0\":\"zero\",\"1\":\"jeden\",\"2\":\"dwa\",\"3\":\"trzy\",\"4\":\"cztery\",\"5\":\"piec\",\"6\":\"szesc\",\"7\":\"siedem\",\"8\":\"osiem\",\"9\":\"dziewiec\"} \"przypisanie do numerow, ich napisu slownie\"\n",
    "\n",
    "class NumerTelefonu(): #stworzenie klasy o nazwie \"NumerTelefonu\"\n",
    "    \n",
    "    def __init__(self, numer): #zdefiniowanie obiektow klasy \"self\" i \"numer\"\n",
    "        if numer[:3] != \"+48\": #jesli numer nie posiada pierwszych trzech znakow zdefiniowanych: \"+48\", to wypisz \"ERROR!\"\n",
    "            print(\"ERROR!\")\n",
    "            self.numer=numer #przypisanie \"self.numer\" do \"numer\"\n",
    "        else:\n",
    "            self.numer=numer \n",
    "    \n",
    "    def woj(self): #zdefiniowanie klasy \"woj\" z obiektem \"self\"\n",
    "        try:\n",
    "            woy = kody_regionalne_slownik[self.numer[3:5]] #testowanie bloku kodu \"woy\" pod katem bledow\n",
    "        except:\n",
    "            woy = \"komorka\" #obsluga bloku kodu bledu \"woy\"\n",
    "        return woy #zwrocenie bloku \"woy\"\n",
    "    \n",
    "    def __repr__(self): #obliczenie reprezentacji ciagu obiektu\n",
    "        numer=self.numer\n",
    "        return \"plus cztery, osiem, {}, {}, {}, {}, {}, {}, {}, {}, {}\".format(cyfry_slownik[numer[3]], cyfry_slownik[numer[4]], cyfry_slownik[numer[5]], cyfry_slownik[numer[6]], cyfry_slownik[numer[7]], cyfry_slownik[numer[8]], cyfry_slownik[numer[9]], cyfry_slownik[numer[10]], cyfry_slownik[numer[11]])\n",
    "numer_1=NumerTelefonu(\"+48423456789\") #zwrocenie slownie numerow \n",
    "\n",
    "print(numer_1) #wyswietlenie \"numer_1\"\n",
    "\n",
    "numer_1.woj()\n",
    "\n",
    "    "
   ]
  }
 ],
 "metadata": {
  "kernelspec": {
   "display_name": "Python 3",
   "language": "python",
   "name": "python3"
  },
  "language_info": {
   "codemirror_mode": {
    "name": "ipython",
    "version": 3
   },
   "file_extension": ".py",
   "mimetype": "text/x-python",
   "name": "python",
   "nbconvert_exporter": "python",
   "pygments_lexer": "ipython3",
   "version": "3.7.4"
  }
 },
 "nbformat": 4,
 "nbformat_minor": 2
}

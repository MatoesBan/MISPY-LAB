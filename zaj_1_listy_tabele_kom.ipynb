{
 "cells": [
  {
   "cell_type": "code",
   "execution_count": 1,
   "metadata": {},
   "outputs": [
    {
     "name": "stdout",
     "output_type": "stream",
     "text": [
      "('Ania', 'Mateusz', 'Michał', 'Anonim')\n"
     ]
    }
   ],
   "source": [
    "studenci=(\"Ania\",\"Mateusz\",\"Michał\",\"Anonim\") #wypisanie kolejnych imion studentow\n",
    "print(studenci) #wyswietlenie imion studentow"
   ]
  },
  {
   "cell_type": "code",
   "execution_count": 2,
   "metadata": {},
   "outputs": [
    {
     "name": "stdout",
     "output_type": "stream",
     "text": [
      "student {} (0, 'Ania')\n",
      "student {} (1, 'Mateusz')\n",
      "student {} (2, 'Michał')\n",
      "student {} (3, 'Anonim')\n"
     ]
    }
   ],
   "source": [
    "for student in enumerate (studenci): #petla wyswietlajaca studentow po kolei\n",
    "    print(\"student {}\",format(student)) #wyswietlenie imion studentow i ich kolejnosci"
   ]
  },
  {
   "cell_type": "code",
   "execution_count": 3,
   "metadata": {},
   "outputs": [
    {
     "name": "stdout",
     "output_type": "stream",
     "text": [
      "student (0, 'Ania') ma ocenę [2, 1, 3, 4]\n",
      "student (1, 'Mateusz') ma ocenę [2, 1, 3, 4]\n",
      "student (2, 'Michał') ma ocenę [2, 1, 3, 4]\n",
      "student (3, 'Anonim') ma ocenę [2, 1, 3, 4]\n"
     ]
    }
   ],
   "source": [
    "oceny=[2,1,3,4]  #wypisanie tablicy kolejnych ocen\n",
    "for student in enumerate (studenci):\n",
    "    print(\"student {} ma ocenę {}\".format(student,oceny)) #wyswietlenie imion studentow, ich kolejnosci i przypisanej ich ocenie"
   ]
  },
  {
   "cell_type": "code",
   "execution_count": 4,
   "metadata": {},
   "outputs": [
    {
     "name": "stdout",
     "output_type": "stream",
     "text": [
      "student Ania ma numer 0 i ocene 2\n",
      "student Mateusz ma numer 1 i ocene 1\n",
      "student Michał ma numer 2 i ocene 3\n",
      "student Anonim ma numer 3 i ocene 4\n"
     ]
    }
   ],
   "source": [
    "oceny=[2,1,3,4]\n",
    "for numer, student in enumerate (studenci): #petla wyswietlajaca numery studentow, ich imiona i ocene\n",
    "    print(\"student {} ma numer {} i ocene {}\".format(student,numer,oceny[numer])) #wyswietlenie\n"
   ]
  },
  {
   "cell_type": "code",
   "execution_count": 5,
   "metadata": {},
   "outputs": [
    {
     "data": {
      "text/plain": [
       "('Mateusz', 'Michał', 'Anonim')"
      ]
     },
     "execution_count": 5,
     "metadata": {},
     "output_type": "execute_result"
    }
   ],
   "source": [
    "zajecia=[\"wf\",\"IT\",\"mipsy\",\"relax\",\"FR\"] #utworzenie tablicy z zajeciami\n",
    "dnityg=[\"PON\",\"WTO\",\"SRO\",\"CZWAR\",\"PIO\"] #utworzenie tablicy z nazwami tygodnia\n",
    "studenci[1:] #wyswietlenie imion studentow od numeru 1, czyli bez \"Ani\""
   ]
  },
  {
   "cell_type": "code",
   "execution_count": 6,
   "metadata": {},
   "outputs": [
    {
     "data": {
      "text/plain": [
       "('Ania', 'Mateusz', 'Michał', 'Anonim')"
      ]
     },
     "execution_count": 6,
     "metadata": {},
     "output_type": "execute_result"
    }
   ],
   "source": [
    "studenci[:] #wyswietlenie wszystkich imion studentow\n"
   ]
  },
  {
   "cell_type": "code",
   "execution_count": 7,
   "metadata": {},
   "outputs": [
    {
     "data": {
      "text/plain": [
       "('Ania', 'Mateusz', 'Michał')"
      ]
     },
     "execution_count": 7,
     "metadata": {},
     "output_type": "execute_result"
    }
   ],
   "source": [
    "studenci[:-1] #wyswietlenie imion studentow oprocz ostatniego"
   ]
  },
  {
   "cell_type": "code",
   "execution_count": 8,
   "metadata": {},
   "outputs": [
    {
     "data": {
      "text/plain": [
       "['mipsy', 'relax', 'FR']"
      ]
     },
     "execution_count": 8,
     "metadata": {},
     "output_type": "execute_result"
    }
   ],
   "source": [
    "zajecia[2:] #wyswietlenie nazw zajec oprocz tych z numerami 0 i 1"
   ]
  },
  {
   "cell_type": "code",
   "execution_count": 9,
   "metadata": {},
   "outputs": [
    {
     "name": "stdout",
     "output_type": "stream",
     "text": [
      "Zajecia: ['mipsy', 'relax', 'FR'] w dniu ['SRO', 'CZWAR', 'PIO']\n"
     ]
    }
   ],
   "source": [
    "print (\"Zajecia: {} w dniu {}\".format(zajecia[2:],dnityg[2:])) #wyswietlenie zajec i dni tygodnia od tych z przypisanymi mu numerami od \"2\" wlacznie"
   ]
  },
  {
   "cell_type": "code",
   "execution_count": 10,
   "metadata": {},
   "outputs": [
    {
     "name": "stdout",
     "output_type": "stream",
     "text": [
      "Od srody do piatku\n",
      "zajecia mipsy w dniu SRO\n",
      "zajecia relax w dniu CZWAR\n",
      "zajecia FR w dniu PIO\n",
      "Bez srody\n",
      "zajecia wf w dniu PON\n",
      "zajecia IT w dniu WTO\n",
      "zajecia relax w dniu CZWAR\n",
      "zajecia FR w dniu PIO\n"
     ]
    }
   ],
   "source": [
    "print(\"Od srody do piatku\") \n",
    "for numer, zajec in enumerate (zajecia): \n",
    "    if numer>1: #wyswietlnie zajec, ktorych numer jest wiekszy od 1\n",
    "        print(\"zajecia {} w dniu {}\".format(zajec,dnityg[numer])) \n",
    "print(\"Bez srody\")\n",
    "for numer, zajec in  enumerate(zajecia):\n",
    "    if numer!=2: #wyswietlnie zajec, z wyjatkiem tego, ktorego numer jest rowny 2, czyli srody\n",
    "        print(\"zajecia {} w dniu {}\".format(zajec,dnityg[numer]))"
   ]
  },
  {
   "cell_type": "code",
   "execution_count": 11,
   "metadata": {},
   "outputs": [],
   "source": [
    "zajecia= [[\"wf\"],\n",
    "          [\"informatyka\", \"nauka czytania\"],\n",
    "          [\"relaks\", \"jedzenie\"],\n",
    "          [\"mispy\",\"mispy w domu\"],\n",
    "          [\"piateczek\", \"pd mispy\", \"i love mispy\"],\n",
    "         ] # wypisaniie tablicy zajec, gdzie kazda kolumna to inny numer\n"
   ]
  },
  {
   "cell_type": "code",
   "execution_count": 12,
   "metadata": {},
   "outputs": [
    {
     "name": "stdout",
     "output_type": "stream",
     "text": [
      "zajecia ['wf'] w dniu PON\n",
      "zajecia ['informatyka', 'nauka czytania'] w dniu WTO\n",
      "zajecia ['relaks', 'jedzenie'] w dniu SRO\n",
      "zajecia ['mispy', 'mispy w domu'] w dniu CZWAR\n",
      "zajecia ['piateczek', 'pd mispy', 'i love mispy'] w dniu PIO\n"
     ]
    }
   ],
   "source": [
    "for numer, zajec in enumerate (zajecia):\n",
    "    print(\"zajecia {} w dniu {}\".format(zajec,dnityg[numer])) "
   ]
  },
  {
   "cell_type": "code",
   "execution_count": 13,
   "metadata": {},
   "outputs": [
    {
     "data": {
      "text/plain": [
       "2"
      ]
     },
     "execution_count": 13,
     "metadata": {},
     "output_type": "execute_result"
    }
   ],
   "source": [
    "len(zajecia[1]) #wyswietlenie ilosci zajec, ktorych numer to 1, czyli kolumna pierwsza"
   ]
  },
  {
   "cell_type": "code",
   "execution_count": 14,
   "metadata": {},
   "outputs": [
    {
     "name": "stdout",
     "output_type": "stream",
     "text": [
      "Zajecia i ich ilosc w danym dniu\n",
      "zajecia ['wf'] dlugosc 1 w dniu PON\n",
      "zajecia ['informatyka', 'nauka czytania'] dlugosc 2 w dniu WTO\n",
      "zajecia ['relaks', 'jedzenie'] dlugosc 2 w dniu SRO\n",
      "zajecia ['mispy', 'mispy w domu'] dlugosc 2 w dniu CZWAR\n",
      "zajecia ['piateczek', 'pd mispy', 'i love mispy'] dlugosc 3 w dniu PIO\n"
     ]
    }
   ],
   "source": [
    "print (\"Zajecia i ich ilosc w danym dniu\")\n",
    "for numer, zajec in enumerate (zajecia): #wyswietlenie kolejnych zajec\n",
    "    print(\"zajecia {} dlugosc {} w dniu {}\".format(zajec,len(zajecia[numer]),dnityg[numer]))"
   ]
  },
  {
   "cell_type": "code",
   "execution_count": null,
   "metadata": {},
   "outputs": [],
   "source": []
  },
  {
   "cell_type": "code",
   "execution_count": null,
   "metadata": {},
   "outputs": [],
   "source": []
  },
  {
   "cell_type": "code",
   "execution_count": null,
   "metadata": {},
   "outputs": [],
   "source": []
  }
 ],
 "metadata": {
  "kernelspec": {
   "display_name": "Python 3",
   "language": "python",
   "name": "python3"
  },
  "language_info": {
   "codemirror_mode": {
    "name": "ipython",
    "version": 3
   },
   "file_extension": ".py",
   "mimetype": "text/x-python",
   "name": "python",
   "nbconvert_exporter": "python",
   "pygments_lexer": "ipython3",
   "version": "3.7.4"
  }
 },
 "nbformat": 4,
 "nbformat_minor": 2
}

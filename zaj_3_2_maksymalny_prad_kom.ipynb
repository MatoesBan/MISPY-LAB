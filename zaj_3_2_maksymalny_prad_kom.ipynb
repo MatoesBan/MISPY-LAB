{
 "cells": [
  {
   "cell_type": "code",
   "execution_count": 1,
   "metadata": {},
   "outputs": [],
   "source": [
    "from pulp import * #importujemy pulpa\n",
    "import pandas as pd  #importujemy pandas"
   ]
  },
  {
   "cell_type": "code",
   "execution_count": 2,
   "metadata": {},
   "outputs": [],
   "source": [
    "prob = LpProblem(\"Maksymalny prad\", LpMaximize) #Nazwanie problemu oraz przypisanie go do zmiennej prob\n",
    "\n",
    "imax = LpVariable(\"Prad\",0) # zmienna decyzyjna maxymalizujemy ją\n",
    "\n",
    "i1 = LpVariable(\"i1\",0) #zmienna pomocnicza \n",
    "i2 = LpVariable(\"i2\",0) #zmienna pomocnicza \n",
    "i3 = LpVariable(\"i3\",0) #zmienna pomocnicza \n",
    "i4 = LpVariable(\"i4\",0) #zmienna pomocnicza \n",
    "i5 = LpVariable(\"i5\",0) #zmienna pomocnicza \n",
    "\n",
    "prob += imax\n",
    "prob += i1 <= 4, \"Max1 pradu\" #ograniczenie prądu i1\n",
    "prob += i2 <= 3, \"Max2 pradu\" #ograniczenie prądu i2\n",
    "prob += i3 <= 4, \"Max3 pradu\" #ograniczenie prądu i3\n",
    "prob += i4 <= 2, \"Max4 pradu\" #ograniczenie prądu i4\n",
    "prob += i5 <= 2, \"Max5 pradu\" #ograniczenie prądu i5\n",
    "prob += imax == i1 + i2, \"1Wezel\" #równanie pierwszego węzła\n",
    "prob += i3 == i1 + i2, \"2Wezel\" #równanie  drugiego węzła \n",
    "prob += i3 == i4 + i5, \"3Wezel\" #równanie trzeciego węzła\n",
    "prob += i1*8 == i2*6, \"1Oczko\" #równanie pierwszego oczka\n",
    "prob += i4*10 == i5*8, \"2Oczko\" #równanie drugiego oczka\n"
   ]
  },
  {
   "cell_type": "code",
   "execution_count": 3,
   "metadata": {},
   "outputs": [
    {
     "name": "stdout",
     "output_type": "stream",
     "text": [
      "Status: Optimal\n",
      "Prad = 3.6\n",
      "i1 = 1.5428571\n",
      "i2 = 2.0571429\n",
      "i3 = 3.6\n",
      "i4 = 1.6\n",
      "i5 = 2.0\n",
      "Maksymalny prad: 3.6 A  \n"
     ]
    }
   ],
   "source": [
    "prob.solve()\n",
    "print(\"Status:\", LpStatus[prob.status]) #Wyświetlenie statusu rozwiązania \n",
    "for v in prob.variables():\n",
    "    print(v.name, \"=\", v.varValue) #wyświetlenie wszystkich zmiennych z ich optymalną wartością\n",
    "print(\"Maksymalny prad: {} A  \".format( value(prob.objective))) #wyświetlenie zmaksymalizowanego prądu imax\n"
   ]
  },
  {
   "cell_type": "code",
   "execution_count": 4,
   "metadata": {},
   "outputs": [
    {
     "name": "stdout",
     "output_type": "stream",
     "text": [
      "**********Shadow**********\n",
      "         name  shadow         slack\n",
      "0  Max1_pradu    -0.0  2.457143e+00\n",
      "1  Max2_pradu    -0.0  9.428571e-01\n",
      "2  Max3_pradu    -0.0  4.000000e-01\n",
      "3  Max4_pradu    -0.0  4.000000e-01\n",
      "4  Max5_pradu     1.8 -0.000000e+00\n",
      "5      1Wezel     1.0 -0.000000e+00\n",
      "6      2Wezel    -1.0  4.440892e-16\n",
      "7      3Wezel     1.0 -0.000000e+00\n",
      "8      1Oczko    -0.0 -0.000000e+00\n",
      "9      2Oczko     0.1 -0.000000e+00\n"
     ]
    }
   ],
   "source": [
    "    shadows = [{'name':name, 'shadow': c.pi, \"slack\": c.slack} for name, c in prob.constraints.items()] \n",
    "    print(\"*\"*10+\"Shadow\"+\"*\"*10)\n",
    "    print(pd.DataFrame(shadows)) #wyświetlenie zmiennych ograniczających oraz ich znaczenia w problemie"
   ]
  },
  {
   "cell_type": "code",
   "execution_count": null,
   "metadata": {},
   "outputs": [],
   "source": []
  },
  {
   "cell_type": "code",
   "execution_count": null,
   "metadata": {},
   "outputs": [],
   "source": []
  }
 ],
 "metadata": {
  "kernelspec": {
   "display_name": "Python 3",
   "language": "python",
   "name": "python3"
  },
  "language_info": {
   "codemirror_mode": {
    "name": "ipython",
    "version": 3
   },
   "file_extension": ".py",
   "mimetype": "text/x-python",
   "name": "python",
   "nbconvert_exporter": "python",
   "pygments_lexer": "ipython3",
   "version": "3.7.4"
  }
 },
 "nbformat": 4,
 "nbformat_minor": 2
}
